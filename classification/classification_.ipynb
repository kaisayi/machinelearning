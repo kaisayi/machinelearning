{
 "cells": [
  {
   "cell_type": "code",
   "execution_count": 1,
   "metadata": {},
   "outputs": [
    {
     "name": "stderr",
     "output_type": "stream",
     "text": [
      "/home/liy/anaconda3/envs/mlpython/lib/python3.6/site-packages/matplotlib/font_manager.py:280: UserWarning: Matplotlib is building the font cache using fc-list. This may take a moment.\n",
      "  'Matplotlib is building the font cache using fc-list. '\n"
     ]
    }
   ],
   "source": [
    "import pandas as pd\n",
    "import numpy as np\n",
    "import matplotlib.pyplot as plt\n",
    "from sklearn.model_selection import train_test_split"
   ]
  },
  {
   "cell_type": "code",
   "execution_count": 2,
   "metadata": {
    "collapsed": true
   },
   "outputs": [],
   "source": [
    "from sklearn.decomposition import PCA\n",
    "fpath = 'iris.data'"
   ]
  },
  {
   "cell_type": "code",
   "execution_count": 16,
   "metadata": {
    "collapsed": true
   },
   "outputs": [],
   "source": [
    "def readdata(file):\n",
    "    df = pd.read_csv(file, header=None, names=list('12345'))\n",
    "    return df.loc[:, '1':'4'].values, df['5'].values"
   ]
  },
  {
   "cell_type": "code",
   "execution_count": 34,
   "metadata": {},
   "outputs": [],
   "source": [
    "def visulize():\n",
    "    X, y = readdata(fpath)\n",
    "    \n",
    "    # decomposition data by SVD \n",
    "    pca = PCA(n_components=2)\n",
    "    X = pca.fit_transform(X)\n",
    "    \n",
    "    colors = ['b', 'g', 'r']\n",
    "    fig = plt.figure(figsize=(7, 8))\n",
    "    \n",
    "    iris_class = np.unique(y).tolist()\n",
    "    for clss, clr, lab in zip(iris_class, colors, iris_class):\n",
    "        plt.scatter(X[y == clss, 0], X[y == clss, 1], c=clr, label=lab)\n",
    "    \n",
    "    plt.legend()\n",
    "    \n",
    "    plt.show()\n",
    "    "
   ]
  },
  {
   "cell_type": "code",
   "execution_count": 35,
   "metadata": {},
   "outputs": [
    {
     "data": {
      "image/png": "[encoded data removed]",
      "text/plain": [
       "<matplotlib.figure.Figure at 0x7f5d99b643c8>"
      ]
     },
     "metadata": {},
     "output_type": "display_data"
    }
   ],
   "source": [
    "visulize()"
   ]
  },
  {
   "cell_type": "code",
   "execution_count": 55,
   "metadata": {
    "collapsed": true
   },
   "outputs": [],
   "source": [
    "# Decision Tree by sklearn\n",
    "from sklearn.tree import DecisionTreeClassifier\n",
    "\n",
    "def clf_():\n",
    "    X, y = readdata(fpath)\n",
    "    iris_class = np.unique(y).tolist()\n",
    "    name_map = dict(zip(iris_class, range(3)))\n",
    "    map2num = lambda cc: name_map[cc]\n",
    "    \n",
    "    # similar to map \n",
    "    vfunc = np.vectorize(map2num)\n",
    "    y = vfunc(y)\n",
    "    \n",
    "    # decomposition on data\n",
    "    pca = PCA(n_components=2)\n",
    "    X = pca.fit_transform(X)\n",
    "    \n",
    "    \n",
    "    # visulization the boundary of classfication\n",
    "    clf = DecisionTreeClassifier(max_depth=4)\n",
    "    clf = clf.fit(X, y)\n",
    "    \n",
    "    x_max, x_min = X[:, 0].max()+1.0, X[:, 0].min()-1.0\n",
    "    y_max, y_min = X[:, 1].max()+1.0, X[:, 1].min()-1.0\n",
    "    sstep = 0.02\n",
    "        \n",
    "    xx, yy = np.meshgrid(np.arange(x_min, x_max, sstep),\n",
    "                        np.arange(y_min, y_max, sstep))\n",
    "    \n",
    "    # np.c_ similar to zip on two rows , np.r_  similar to concat on two rows \n",
    "    # np.ravel similar to flatten\n",
    "    Z = clf.predict(np.c_[xx.ravel(), yy.ravel()])\n",
    "    Z = Z.reshape(xx.shape)\n",
    "\n",
    "    plt.contourf(xx, yy, Z, cmap=plt.cm.RdYlBu)\n",
    "    colors = ['b', 'g', 'r']\n",
    "    \n",
    "    for clss, clr, lab in zip([0, 1, 2], colors, iris_class):\n",
    "        plt.scatter(X[y == clss, 0], X[y == clss, 1], c=clr, label=lab)\n",
    "        \n",
    "    plt.legend()\n",
    "    plt.show()"
   ]
  },
  {
   "cell_type": "code",
   "execution_count": 56,
   "metadata": {},
   "outputs": [
    {
     "data": {
      "image/png": "[encoded data removed]",
      "text/plain": [
       "<matplotlib.figure.Figure at 0x7f5d99f3cbe0>"
      ]
     },
     "metadata": {},
     "output_type": "display_data"
    }
   ],
   "source": [
    "clf_()"
   ]
  },
  {
   "cell_type": "code",
   "execution_count": 64,
   "metadata": {},
   "outputs": [],
   "source": [
    "# implement Decision Tree from scratch\n",
    "def calc_shannon_ent(dataset):\n",
    "    \n",
    "    labels = dataset[:, -1]\n",
    "    size = labels.shape[0]\n",
    "    \n",
    "    _, self_ent = np.unique(labels, return_counts=True)\n",
    "    \n",
    "    if len(self_ent) == 1:\n",
    "        return 0.0\n",
    "    \n",
    "    self_ent = self_ent/size\n",
    "    \n",
    "    return -self_ent.dot(np.log2(self_ent))"
   ]
  },
  {
   "cell_type": "code",
   "execution_count": 65,
   "metadata": {
    "collapsed": true
   },
   "outputs": [],
   "source": [
    "def read_data(file):\n",
    "    df = pd.read_csv(file, header=None)\n",
    "    return df.values"
   ]
  },
  {
   "cell_type": "code",
   "execution_count": 70,
   "metadata": {},
   "outputs": [],
   "source": [
    "def split_dataset(dataset, axis, value):\n",
    "    samples, feats = dataset.shape\n",
    "    assert axis <= feats-2\n",
    "    \n",
    "    col = dataset[:, axis]\n",
    "    return dataset[col <= value], dataset[col > value]\n",
    "    "
   ]
  },
  {
   "cell_type": "code",
   "execution_count": 86,
   "metadata": {},
   "outputs": [],
   "source": [
    "# Decision Tree by CART algorithm\n",
    "# Gini rate of the dataset\n",
    "inf = np.Inf\n",
    "def Gini_(dataset):\n",
    "    _, count = np.unique(dataset[:, -1], return_counts=True)\n",
    "    \n",
    "    freq = count/count.sum()\n",
    "    \n",
    "    return 1 - np.square(freq).sum()\n",
    "\n",
    "def label_(dataset):\n",
    "    labels, count = np.unique(dataset[:, -1], return_counts=True)\n",
    "    return labels[np.argmax(count)]\n",
    "\n",
    "def cart_cut(dataset, thres, epsilon=1e-6):\n",
    "    # calculate the origin gini rate of dataset\n",
    "    ori_gini = Gini_(dataset)\n",
    "    \n",
    "    # if the origin_gini is small_enough return the dataset\n",
    "    if ori_gini <= epsilon:\n",
    "        return {'gini': ori_gini,\n",
    "                'label': label_(dataset)}\n",
    "    \n",
    "    features = dataset.shape[-1] - 1\n",
    "    bfeat = 0\n",
    "    bgini = ori_gini\n",
    "    bval = inf\n",
    "    for feat in range(features):\n",
    "        fcol = dataset[:, feat]\n",
    "        # init the gini rate\n",
    "        cur_gini = inf\n",
    "        cur_val = inf\n",
    "        for val in fcol:\n",
    "            ldata, rdata = split_dataset(dataset, feat, val)\n",
    "            spl_gini = Gini_(rdata)+Gini_(ldata)\n",
    "            if cur_gini > spl_gini:\n",
    "                cur_gini = spl_gini\n",
    "                cur_val = val\n",
    "        print('feature %s has done, the best gini rate is %.8f, the val is %.8f'%(feat, cur_gini, cur_val))\n",
    "        \n",
    "        if cur_gini < bgini:\n",
    "            bgini = cur_gini\n",
    "            bfeat = feat\n",
    "            bval = cur_val\n",
    "    \n",
    "    \n",
    "    if ori_gini - bgini >= thres:\n",
    "        ldata, rdata = split_dataset(dataset, bfeat, bval)\n",
    "        return {'gini': ori_gini,\n",
    "                'feature': bfeat,\n",
    "                'value': bval,\n",
    "                'left': cart_cut(ldata, thres, epsilon),\n",
    "                'right': cart_cut(rdata, thres, epsilon)}\n",
    "    else:\n",
    "        return {'gini': ori_gini,\n",
    "                'label': label_(dataset)}\n",
    "    \n",
    "    "
   ]
  },
  {
   "cell_type": "code",
   "execution_count": 87,
   "metadata": {},
   "outputs": [
    {
     "name": "stdout",
     "output_type": "stream",
     "text": [
      "feature 0 has done, the best gini rate is 0.65716195, the val is 4.80000000\n",
      "feature 1 has done, the best gini rate is 0.66550926, the val is 3.80000000\n",
      "feature 2 has done, the best gini rate is 0.50000000, the val is 1.90000000\n",
      "feature 3 has done, the best gini rate is 0.50000000, the val is 0.60000000\n",
      "feature 0 has done, the best gini rate is 0.49070248, the val is 7.00000000\n",
      "feature 1 has done, the best gini rate is 0.49952173, the val is 3.40000000\n",
      "feature 2 has done, the best gini rate is 0.23783696, the val is 4.70000000\n",
      "feature 3 has done, the best gini rate is 0.21057149, the val is 1.70000000\n",
      "feature 0 has done, the best gini rate is 0.13955144, the val is 7.00000000\n",
      "feature 1 has done, the best gini rate is 0.17087932, the val is 3.30000000\n",
      "feature 2 has done, the best gini rate is 0.10872781, the val is 5.10000000\n",
      "feature 3 has done, the best gini rate is 0.19013128, the val is 1.00000000\n",
      "feature 0 has done, the best gini rate is 0.11072664, the val is 6.90000000\n",
      "feature 1 has done, the best gini rate is 0.11072664, the val is 3.30000000\n",
      "feature 2 has done, the best gini rate is 0.11072664, the val is 3.00000000\n",
      "feature 3 has done, the best gini rate is 0.12444444, the val is 1.00000000\n",
      "feature 0 has done, the best gini rate is 0.04345679, the val is 7.70000000\n",
      "feature 1 has done, the best gini rate is 0.04442149, the val is 3.60000000\n",
      "feature 2 has done, the best gini rate is 0.04345679, the val is 6.70000000\n",
      "feature 3 has done, the best gini rate is 0.04542996, the val is 2.40000000\n"
     ]
    }
   ],
   "source": [
    "dataset = read_data(fpath)\n",
    "cart_tree = cart_cut(dataset, thres=1e-7, epsilon=1e-8)"
   ]
  },
  {
   "cell_type": "code",
   "execution_count": 88,
   "metadata": {
    "scrolled": true
   },
   "outputs": [
    {
     "name": "stdout",
     "output_type": "stream",
     "text": [
      "{'feature': 2,\n",
      " 'gini': 0.66666666666666674,\n",
      " 'left': {'gini': 0.0, 'label': 'Iris-setosa'},\n",
      " 'right': {'feature': 3,\n",
      "           'gini': 0.5,\n",
      "           'left': {'feature': 2,\n",
      "                    'gini': 0.16803840877914955,\n",
      "                    'left': {'gini': 0.10872781065088755,\n",
      "                             'label': 'Iris-versicolor'},\n",
      "                    'right': {'gini': 0.0, 'label': 'Iris-virginica'},\n",
      "                    'value': 5.1},\n",
      "           'right': {'gini': 0.042533081285444307, 'label': 'Iris-virginica'},\n",
      "           'value': 1.7},\n",
      " 'value': 1.9}\n"
     ]
    }
   ],
   "source": [
    "from pprint import pprint\n",
    "pprint(cart_tree)"
   ]
  },
  {
   "cell_type": "code",
   "execution_count": 91,
   "metadata": {
    "collapsed": true
   },
   "outputs": [],
   "source": [
    "def predict(tree, d):\n",
    "    if 'label' in tree:\n",
    "        return tree['label']\n",
    "    else:\n",
    "        feat = tree['feature']\n",
    "        val = tree['value']\n",
    "        subtree = tree['left'] if d[feat] <= val else tree['right']\n",
    "        return predict(subtree, d)\n",
    "        "
   ]
  },
  {
   "cell_type": "code",
   "execution_count": 96,
   "metadata": {},
   "outputs": [],
   "source": [
    "def predict_(data):\n",
    "    return [predict(cart_tree, d) for d in data]"
   ]
  },
  {
   "cell_type": "code",
   "execution_count": 97,
   "metadata": {},
   "outputs": [],
   "source": [
    "X, y = dataset[:, :-1], dataset[:, -1]\n",
    "pre_y = predict_(X)\n",
    "precise = (pre_y==y).sum() / len(pre_y)"
   ]
  },
  {
   "cell_type": "code",
   "execution_count": 99,
   "metadata": {},
   "outputs": [],
   "source": [
    "from numpy.linalg import norm"
   ]
  },
  {
   "cell_type": "code",
   "execution_count": 106,
   "metadata": {
    "collapsed": true
   },
   "outputs": [],
   "source": [
    "# k-NN\n",
    "# calculate the Euler distance\n",
    "def distance_(xi, xc):\n",
    "    xi, xc = np.array(xi), np.array(xc)\n",
    "    return norm(xi-xc)\n",
    "\n",
    "def maj_vote(yset):\n",
    "    return np.bincount(yset).argmax()\n",
    "    "
   ]
  },
  {
   "cell_type": "code",
   "execution_count": 101,
   "metadata": {},
   "outputs": [
    {
     "data": {
      "text/plain": [
       "3"
      ]
     },
     "execution_count": 101,
     "metadata": {},
     "output_type": "execute_result"
    }
   ],
   "source": [
    "# implement KD-search-tree\n",
    "\n",
    "class Node:\n",
    "    \n",
    "    def __init__(self, data=None, left=None, right=None):\n",
    "        self.data = data\n",
    "        self.left = left\n",
    "        self.right = right\n",
    "        \n",
    "    @property\n",
    "    def is_leaf(self):\n",
    "        return self.data is None or all(bool(c) for c, _ in self.children)\n",
    "    \n",
    "    @property\n",
    "    def children(self):\n",
    "        if self.left:\n",
    "            yield self.left, 0\n",
    "        if self.right:\n",
    "            yield self.right, 1\n",
    "    \n",
    "    def preorder(self):\n",
    "        '''\n",
    "        retrieve the tree by preorder\n",
    "        '''\n",
    "        if not self:\n",
    "            return\n",
    "        \n",
    "        yield self\n",
    "        \n",
    "        if self.left:\n",
    "            for x in self.left.preorder():\n",
    "                yield x\n",
    "        \n",
    "        if self.right:\n",
    "            for x in self.right.preorder():\n",
    "                yield x\n",
    "    \n",
    "    def inorder(self):\n",
    "        '''\n",
    "        inorder : left, self, right\n",
    "        '''     \n",
    "        if not self:\n",
    "            return\n",
    "        \n",
    "        if self.left:\n",
    "            for x in self.left.inorder():\n",
    "                yield x\n",
    "        \n",
    "        yield self\n",
    "        \n",
    "        if self.right:\n",
    "            for x in self.right.inorder():\n",
    "                yield x\n",
    "    \n",
    "    def postorder(self):\n",
    "        '''\n",
    "        opstorder : left right self\n",
    "        '''\n",
    "        if not self:\n",
    "            return\n",
    "        \n",
    "        if self.left:\n",
    "            for x in self.left.postorder():\n",
    "                yield x\n",
    "        \n",
    "        if self.right:\n",
    "            for x in self.right.postorder():\n",
    "                yield x\n",
    "        \n",
    "        yield self\n",
    "        \n",
    "    def height(self):\n",
    "        \n",
    "        min_height = int(bool(self))\n",
    "        \n",
    "        return max([min_height] + [c.height()+1 for c, _ in self.children])\n",
    "    \n",
    "    def __repr__(self):\n",
    "        return \"<{node}: {data}>\".format(node=self.__class__, data=repr(self.data))\n",
    "    \n",
    "    def __nonzero__(self):\n",
    "        return self.data is not None\n",
    "    \n",
    "    __bool__ = __nonzero__\n",
    "    \n",
    "\n",
    "def KDNode(Node):\n",
    "    \n",
    "    def __init__(self, data=None, left=None, right=None, axis=None, sel_axis=None, dimensions=None):\n",
    "        '''\n",
    "        axis : split axis of current node\n",
    "        sel_axis: split axis of children node\n",
    "        '''\n",
    "        super(KDNode, self).__init__(data, left, right)\n",
    "        \n",
    "        self.axis = axis\n",
    "        self.sel_axis = sel_axis\n",
    "        self.dimensions = dimensions\n",
    "        \n",
    "    def search_knn(self, point, k, dist=None):\n",
    "        '''\n",
    "        return k nearest neighbors of points and distance\n",
    "        '''\n",
    "        if k < 1:\n",
    "            raise 'the k must bigger than 0'\n",
    "            \n",
    "        dist = dist or lambda n: distance_(n.data, )\n",
    "        \n",
    "        results = []\n",
    "        \n",
    "        self._search_node(point, k, results, )\n",
    "        \n",
    "\n",
    "def create(points, dimensions=None, axis=0, sel_axis=None):\n",
    "    '''\n",
    "    create kd-tree from the poinst \n",
    "    '''\n",
    "    dimensions = check_dimension(points, dimensions) # self check the dimension of the points\n",
    "    \n",
    "    # initiate the rule of generate the next axis\n",
    "    sel_axis = sel_axis or lambda prev: (prev + 1)%dimensions\n",
    "    \n",
    "    if not points:\n",
    "        return KDNode(axis=axis, sel_axis=sel_axis, dimensions=dimensions)\n",
    "    \n",
    "    # create the kd-tree\n",
    "    point_list = list(points)\n",
    "    point_list = sorted(point_list, key: lambda x: x[axis])\n",
    "    median = len(point_list) // 2\n",
    "    \n",
    "    loc = point_list[median]\n",
    "    left = create(point_list[:median], dimensions, sel_axis(axis))\n",
    "    right = create(point_list[median+1:], dimensions, sel_axis(axis))\n",
    "    \n",
    "    return KDNode(loc, left, right, axis=axis, sel_axis=sel_axis, dimensions=dimensions)    \n",
    "\n",
    "\n",
    "def check_dimension(points, dimensions=None):\n",
    "    \n",
    "    dimensions = dimensions or len(points[0])\n",
    "    \n",
    "    for i, p in enumerate(points):\n",
    "        if len(p) != dimensions:\n",
    "            raise ValueError(\"the %s-th value of the point has invalid dimension\"%(i))\n",
    "            \n",
    "    return dimensions\n",
    "            \n",
    "    \n",
    "        \n",
    "    "
   ]
  },
  {
   "cell_type": "code",
   "execution_count": 105,
   "metadata": {},
   "outputs": [
    {
     "data": {
      "text/plain": [
       "'12'"
      ]
     },
     "execution_count": 105,
     "metadata": {},
     "output_type": "execute_result"
    }
   ],
   "source": [
    "'{node}'.format(node=)"
   ]
  },
  {
   "cell_type": "code",
   "execution_count": null,
   "metadata": {
    "collapsed": true
   },
   "outputs": [],
   "source": []
  }
 ],
 "metadata": {
  "kernelspec": {
   "display_name": "Python 3",
   "language": "python",
   "name": "python3"
  },
  "language_info": {
   "codemirror_mode": {
    "name": "ipython",
    "version": 3
   },
   "file_extension": ".py",
   "mimetype": "text/x-python",
   "name": "python",
   "nbconvert_exporter": "python",
   "pygments_lexer": "ipython3",
   "version": "3.6.3"
  }
 },
 "nbformat": 4,
 "nbformat_minor": 2
}
