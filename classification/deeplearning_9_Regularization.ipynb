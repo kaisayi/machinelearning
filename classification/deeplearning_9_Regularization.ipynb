{
 "cells": [
  {
   "cell_type": "markdown",
   "metadata": {},
   "source": [
    "## Regularization\n",
    "\n",
    "* reduce overfitting\n",
    "* humans often overfits,"
   ]
  },
  {
   "cell_type": "code",
   "execution_count": 3,
   "metadata": {
    "collapsed": true
   },
   "outputs": [],
   "source": [
    "from helpfulfunc import *\n",
    "from sklearn.linear_model import LassoCV\n",
    "from sklearn import metrics\n",
    "from sklearn.model_selection import train_test_split"
   ]
  },
  {
   "cell_type": "code",
   "execution_count": 4,
   "metadata": {
    "collapsed": true
   },
   "outputs": [],
   "source": [
    "# Setup Data\n",
    "filepath = '../data/auto-mpg.csv'\n",
    "df_ = pd.read_csv(filepath, na_values=['NA', '?'])\n",
    "\n",
    "missing_median(df_, 'horsepower')\n",
    "df_.drop('name',axis=1, inplace=True)\n",
    "\n",
    "# zscore the data\n",
    "is_zscore = False\n",
    "if is_zscore:\n",
    "    encode_numeric_zscore(df_, 'horsepower')\n",
    "    encode_numeric_zscore(df_, 'weight')\n",
    "    encode_numeric_zscore(df_, 'cylinders')\n",
    "    encode_numeric_zscore(df_, 'displacement')\n",
    "    encode_numeric_zscore(df_, 'acceleration')\n"
   ]
  },
  {
   "cell_type": "code",
   "execution_count": 5,
   "metadata": {
    "collapsed": true
   },
   "outputs": [],
   "source": [
    "def encode_text_dummy(df, name):\n",
    "    dummies = pd.get_dummies(df[name])\n",
    "    for x in dummies.columns:\n",
    "        dummy_name = \"{}-{}\".format(name, x)\n",
    "        df[dummy_name] = dummies[x]\n",
    "        \n",
    "    df.drop(name, axis=1, inplace=True)\n",
    "\n",
    "encode_text_dummy(df_, 'origin')"
   ]
  },
  {
   "cell_type": "markdown",
   "metadata": {},
   "source": []
  },
  {
   "cell_type": "code",
   "execution_count": 6,
   "metadata": {
    "collapsed": true
   },
   "outputs": [],
   "source": [
    "x, y = to_xy(df_, 'mpg')\n",
    "x_train, x_test, y_train, y_test = train_test_split(x, y, test_size=0.25, random_state=43)"
   ]
  },
  {
   "cell_type": "code",
   "execution_count": 7,
   "metadata": {
    "collapsed": true
   },
   "outputs": [],
   "source": [
    "# Function evaluate the coefficients of regression\n",
    "%matplotlib inline\n",
    "from IPython.display import display, HTML\n",
    "\n",
    "def report_coef(names, coef, intercept):\n",
    "    r = pd.DataFrame({'coef': coef, 'positive': coef>=0}, index=names)\n",
    "    r = r.sort_values(by=['coef'])\n",
    "    display(r)\n",
    "    print('Intercept : {}'.format(intercept))\n",
    "    r['coef'].plot(kind='barh', color=r['positive'].map({True: 'b', False: 'r'}))"
   ]
  },
  {
   "cell_type": "markdown",
   "metadata": {},
   "source": [
    "## Linear Regression"
   ]
  },
  {
   "cell_type": "code",
   "execution_count": 24,
   "metadata": {},
   "outputs": [
    {
     "data": {
      "text/plain": [
       "LinearRegression(copy_X=True, fit_intercept=True, n_jobs=1, normalize=False)"
      ]
     },
     "execution_count": 24,
     "metadata": {},
     "output_type": "execute_result"
    }
   ],
   "source": [
    "import sklearn \n",
    "\n",
    "# create a regressor \n",
    "regressor = sklearn.linear_model.LinearRegression()\n",
    "\n",
    "# Fit/train the linear regression\n",
    "regressor.fit(x_train, y_train)"
   ]
  },
  {
   "cell_type": "code",
   "execution_count": 27,
   "metadata": {},
   "outputs": [
    {
     "name": "stdout",
     "output_type": "stream",
     "text": [
      "Final score (RMSE): 3.267441749572754\n"
     ]
    },
    {
     "data": {
      "text/html": [
       "<div>\n",
       "<style scoped>\n",
       "    .dataframe tbody tr th:only-of-type {\n",
       "        vertical-align: middle;\n",
       "    }\n",
       "\n",
       "    .dataframe tbody tr th {\n",
       "        vertical-align: top;\n",
       "    }\n",
       "\n",
       "    .dataframe thead th {\n",
       "        text-align: right;\n",
       "    }\n",
       "</style>\n",
       "<table border=\"1\" class=\"dataframe\">\n",
       "  <thead>\n",
       "    <tr style=\"text-align: right;\">\n",
       "      <th></th>\n",
       "      <th>coef</th>\n",
       "      <th>positive</th>\n",
       "    </tr>\n",
       "  </thead>\n",
       "  <tbody>\n",
       "    <tr>\n",
       "      <th>origin-1</th>\n",
       "      <td>-2.170928</td>\n",
       "      <td>False</td>\n",
       "    </tr>\n",
       "    <tr>\n",
       "      <th>cylinders</th>\n",
       "      <td>-0.535815</td>\n",
       "      <td>False</td>\n",
       "    </tr>\n",
       "    <tr>\n",
       "      <th>horsepower</th>\n",
       "      <td>-0.019640</td>\n",
       "      <td>False</td>\n",
       "    </tr>\n",
       "    <tr>\n",
       "      <th>weight</th>\n",
       "      <td>-0.007381</td>\n",
       "      <td>False</td>\n",
       "    </tr>\n",
       "    <tr>\n",
       "      <th>displacement</th>\n",
       "      <td>0.030546</td>\n",
       "      <td>True</td>\n",
       "    </tr>\n",
       "    <tr>\n",
       "      <th>acceleration</th>\n",
       "      <td>0.044243</td>\n",
       "      <td>True</td>\n",
       "    </tr>\n",
       "    <tr>\n",
       "      <th>year</th>\n",
       "      <td>0.784904</td>\n",
       "      <td>True</td>\n",
       "    </tr>\n",
       "    <tr>\n",
       "      <th>origin-2</th>\n",
       "      <td>1.057159</td>\n",
       "      <td>True</td>\n",
       "    </tr>\n",
       "    <tr>\n",
       "      <th>origin-3</th>\n",
       "      <td>1.113770</td>\n",
       "      <td>True</td>\n",
       "    </tr>\n",
       "  </tbody>\n",
       "</table>\n",
       "</div>"
      ],
      "text/plain": [
       "                  coef  positive\n",
       "origin-1     -2.170928     False\n",
       "cylinders    -0.535815     False\n",
       "horsepower   -0.019640     False\n",
       "weight       -0.007381     False\n",
       "displacement  0.030546      True\n",
       "acceleration  0.044243      True\n",
       "year          0.784904      True\n",
       "origin-2      1.057159      True\n",
       "origin-3      1.113770      True"
      ]
     },
     "metadata": {},
     "output_type": "display_data"
    },
    {
     "name": "stdout",
     "output_type": "stream",
     "text": [
      "Intercept : [-15.054094]\n"
     ]
    },
    {
     "data": {
      "image/png": "[encoded data removed]",
      "text/plain": [
       "<matplotlib.figure.Figure at 0x7f923419a898>"
      ]
     },
     "metadata": {},
     "output_type": "display_data"
    }
   ],
   "source": [
    "pred = regressor.predict(x_test)\n",
    "\n",
    "# Measure the RMSE error, \n",
    "score = np.sqrt(metrics.mean_squared_error(pred, y_test))\n",
    "print('Final score (RMSE): {}'.format(score))\n",
    "\n",
    "name = list(df_.columns.values)\n",
    "name.remove('mpg')\n",
    "\n",
    "report_coef(\n",
    "    name,\n",
    "    regressor.coef_[0,:],\n",
    "    regressor.intercept_\n",
    ")"
   ]
  },
  {
   "cell_type": "markdown",
   "metadata": {},
   "source": [
    "### L1 - Regularization\n",
    "\n",
    "L1 regularization known as LASSO(Least Absolute Shrinkage and Selection Operator) used to create sparsity in the neural network. \n",
    "\n",
    "$E_1 = \\alpha\\sum_w|w|$"
   ]
  },
  {
   "cell_type": "code",
   "execution_count": 29,
   "metadata": {},
   "outputs": [
    {
     "name": "stdout",
     "output_type": "stream",
     "text": [
      "the score (RMSE) of lasso :  3.2269242\n"
     ]
    },
    {
     "data": {
      "text/html": [
       "<div>\n",
       "<style scoped>\n",
       "    .dataframe tbody tr th:only-of-type {\n",
       "        vertical-align: middle;\n",
       "    }\n",
       "\n",
       "    .dataframe tbody tr th {\n",
       "        vertical-align: top;\n",
       "    }\n",
       "\n",
       "    .dataframe thead th {\n",
       "        text-align: right;\n",
       "    }\n",
       "</style>\n",
       "<table border=\"1\" class=\"dataframe\">\n",
       "  <thead>\n",
       "    <tr style=\"text-align: right;\">\n",
       "      <th></th>\n",
       "      <th>coef</th>\n",
       "      <th>positive</th>\n",
       "    </tr>\n",
       "  </thead>\n",
       "  <tbody>\n",
       "    <tr>\n",
       "      <th>origin-1</th>\n",
       "      <td>-2.361377</td>\n",
       "      <td>False</td>\n",
       "    </tr>\n",
       "    <tr>\n",
       "      <th>cylinders</th>\n",
       "      <td>-0.074118</td>\n",
       "      <td>False</td>\n",
       "    </tr>\n",
       "    <tr>\n",
       "      <th>horsepower</th>\n",
       "      <td>-0.014870</td>\n",
       "      <td>False</td>\n",
       "    </tr>\n",
       "    <tr>\n",
       "      <th>weight</th>\n",
       "      <td>-0.007401</td>\n",
       "      <td>False</td>\n",
       "    </tr>\n",
       "    <tr>\n",
       "      <th>origin-2</th>\n",
       "      <td>0.000000</td>\n",
       "      <td>True</td>\n",
       "    </tr>\n",
       "    <tr>\n",
       "      <th>origin-3</th>\n",
       "      <td>0.000000</td>\n",
       "      <td>True</td>\n",
       "    </tr>\n",
       "    <tr>\n",
       "      <th>acceleration</th>\n",
       "      <td>0.016326</td>\n",
       "      <td>True</td>\n",
       "    </tr>\n",
       "    <tr>\n",
       "      <th>displacement</th>\n",
       "      <td>0.018801</td>\n",
       "      <td>True</td>\n",
       "    </tr>\n",
       "    <tr>\n",
       "      <th>year</th>\n",
       "      <td>0.768853</td>\n",
       "      <td>True</td>\n",
       "    </tr>\n",
       "  </tbody>\n",
       "</table>\n",
       "</div>"
      ],
      "text/plain": [
       "                  coef  positive\n",
       "origin-1     -2.361377     False\n",
       "cylinders    -0.074118     False\n",
       "horsepower   -0.014870     False\n",
       "weight       -0.007401     False\n",
       "origin-2      0.000000      True\n",
       "origin-3      0.000000      True\n",
       "acceleration  0.016326      True\n",
       "displacement  0.018801      True\n",
       "year          0.768853      True"
      ]
     },
     "metadata": {},
     "output_type": "display_data"
    },
    {
     "name": "stdout",
     "output_type": "stream",
     "text": [
      "Intercept : [-13.547647]\n"
     ]
    },
    {
     "data": {
      "image/png": "[encoded data removed]",
      "text/plain": [
       "<matplotlib.figure.Figure at 0x7f922fdba5f8>"
      ]
     },
     "metadata": {},
     "output_type": "display_data"
    }
   ],
   "source": [
    "from sklearn.linear_model import Lasso\n",
    "\n",
    "regressor_l1 = Lasso(random_state=0, alpha=0.1)\n",
    "\n",
    "# Fit the LASSO\n",
    "regressor_l1.fit(x_train, y_train)\n",
    "\n",
    "# prediction\n",
    "y_pred = regressor_l1.predict(x_test)\n",
    "\n",
    "# RMSE \n",
    "score = np.sqrt(metrics.mean_squared_error(y_pred, y_test))\n",
    "print('the score (RMSE) of lasso : ', score)\n",
    "\n",
    "report_coef(\n",
    "    name,\n",
    "    regressor_l1.coef_,\n",
    "    regressor_l1.intercept_\n",
    ")"
   ]
  },
  {
   "cell_type": "code",
   "execution_count": 30,
   "metadata": {
    "collapsed": true
   },
   "outputs": [],
   "source": [
    "import numpy as np\n",
    "import matplotlib.pyplot as plt\n",
    "\n",
    "from sklearn.linear_model import LassoCV\n",
    "from sklearn.linear_model import Lasso\n",
    "from sklearn.model_selection import KFold\n",
    "from sklearn.model_selection import cross_val_score"
   ]
  },
  {
   "cell_type": "code",
   "execution_count": 33,
   "metadata": {},
   "outputs": [
    {
     "name": "stderr",
     "output_type": "stream",
     "text": [
      "/home/liy/anaconda3/lib/python3.6/site-packages/sklearn/linear_model/coordinate_descent.py:491: ConvergenceWarning: Objective did not converge. You might want to increase the number of iterations. Fitting data with very small alpha may cause precision problems.\n",
      "  ConvergenceWarning)\n",
      "/home/liy/anaconda3/lib/python3.6/site-packages/sklearn/linear_model/coordinate_descent.py:491: ConvergenceWarning: Objective did not converge. You might want to increase the number of iterations. Fitting data with very small alpha may cause precision problems.\n",
      "  ConvergenceWarning)\n",
      "/home/liy/anaconda3/lib/python3.6/site-packages/sklearn/linear_model/coordinate_descent.py:491: ConvergenceWarning: Objective did not converge. You might want to increase the number of iterations. Fitting data with very small alpha may cause precision problems.\n",
      "  ConvergenceWarning)\n",
      "/home/liy/anaconda3/lib/python3.6/site-packages/sklearn/linear_model/coordinate_descent.py:491: ConvergenceWarning: Objective did not converge. You might want to increase the number of iterations. Fitting data with very small alpha may cause precision problems.\n",
      "  ConvergenceWarning)\n",
      "/home/liy/anaconda3/lib/python3.6/site-packages/sklearn/linear_model/coordinate_descent.py:491: ConvergenceWarning: Objective did not converge. You might want to increase the number of iterations. Fitting data with very small alpha may cause precision problems.\n",
      "  ConvergenceWarning)\n",
      "/home/liy/anaconda3/lib/python3.6/site-packages/sklearn/linear_model/coordinate_descent.py:491: ConvergenceWarning: Objective did not converge. You might want to increase the number of iterations. Fitting data with very small alpha may cause precision problems.\n",
      "  ConvergenceWarning)\n",
      "/home/liy/anaconda3/lib/python3.6/site-packages/sklearn/linear_model/coordinate_descent.py:491: ConvergenceWarning: Objective did not converge. You might want to increase the number of iterations. Fitting data with very small alpha may cause precision problems.\n",
      "  ConvergenceWarning)\n",
      "/home/liy/anaconda3/lib/python3.6/site-packages/sklearn/linear_model/coordinate_descent.py:491: ConvergenceWarning: Objective did not converge. You might want to increase the number of iterations. Fitting data with very small alpha may cause precision problems.\n",
      "  ConvergenceWarning)\n",
      "/home/liy/anaconda3/lib/python3.6/site-packages/sklearn/linear_model/coordinate_descent.py:491: ConvergenceWarning: Objective did not converge. You might want to increase the number of iterations. Fitting data with very small alpha may cause precision problems.\n",
      "  ConvergenceWarning)\n"
     ]
    },
    {
     "data": {
      "text/plain": [
       "(1e-08, 100000000.0)"
      ]
     },
     "execution_count": 33,
     "metadata": {},
     "output_type": "execute_result"
    },
    {
     "data": {
      "image/png": "[encoded data removed]",
      "text/plain": [
       "<matplotlib.figure.Figure at 0x7f9223df9278>"
      ]
     },
     "metadata": {},
     "output_type": "display_data"
    }
   ],
   "source": [
    "lasso = Lasso(random_state=43)\n",
    "alphas = np.logspace(-8, 8, 10)\n",
    "\n",
    "scores = list()\n",
    "scores_std = list()\n",
    "\n",
    "n_folds = 3\n",
    "\n",
    "for alpha in alphas:\n",
    "    lasso.alpha = alpha\n",
    "    tmp_score = cross_val_score(lasso, x, y, cv=n_folds, n_jobs=1)\n",
    "    scores.append(np.mean(tmp_score))\n",
    "    scores_std.append(np.std(tmp_score))\n",
    "\n",
    "scores, scores_std = np.array(scores), np.array(scores_std)\n",
    "\n",
    "plt.figure().set_size_inches(8, 6)\n",
    "plt.semilogx(alphas, scores)\n",
    "\n",
    "# Plot error lines showing +/- std. errors of scores\n",
    "std_error = scores_std / np.sqrt(n_folds)\n",
    "\n",
    "plt.semilogx(alphas, scores+std_error, 'b--')\n",
    "plt.semilogx(alphas, scores-std_error, 'b--')\n",
    "\n",
    "# alpha= 0.2 control the translucency of the fill color\n",
    "plt.fill_between(alphas, scores+std_error, scores-std_error, alpha=0.2)\n",
    "\n",
    "plt.ylabel('CV score =/- std_error')\n",
    "plt.xlabel('alpha')\n",
    "plt.axhline(np.max(scores), linestyle='--', color='0.5')\n",
    "plt.xlim([alphas[0], alphas[-1]])\n"
   ]
  },
  {
   "cell_type": "markdown",
   "metadata": {},
   "source": [
    "### L2 Regularization\n",
    "\n",
    "$E_2 = \\alpha\\sum_ww^2$ the bias values are not summed"
   ]
  },
  {
   "cell_type": "code",
   "execution_count": 34,
   "metadata": {
    "collapsed": true
   },
   "outputs": [],
   "source": [
    "from sklearn.linear_model import Ridge"
   ]
  },
  {
   "cell_type": "code",
   "execution_count": 38,
   "metadata": {},
   "outputs": [
    {
     "name": "stdout",
     "output_type": "stream",
     "text": [
      "score (RMSE) of Ridge:  3.2635188\n"
     ]
    },
    {
     "name": "stderr",
     "output_type": "stream",
     "text": [
      "/home/liy/anaconda3/lib/python3.6/site-packages/scipy/linalg/basic.py:40: RuntimeWarning: scipy.linalg.solve\n",
      "Ill-conditioned matrix detected. Result is not guaranteed to be accurate.\n",
      "Reciprocal condition number/precision: 4.174046885907501e-09 / 5.960464477539063e-08\n",
      "  RuntimeWarning)\n"
     ]
    },
    {
     "data": {
      "text/html": [
       "<div>\n",
       "<style scoped>\n",
       "    .dataframe tbody tr th:only-of-type {\n",
       "        vertical-align: middle;\n",
       "    }\n",
       "\n",
       "    .dataframe tbody tr th {\n",
       "        vertical-align: top;\n",
       "    }\n",
       "\n",
       "    .dataframe thead th {\n",
       "        text-align: right;\n",
       "    }\n",
       "</style>\n",
       "<table border=\"1\" class=\"dataframe\">\n",
       "  <thead>\n",
       "    <tr style=\"text-align: right;\">\n",
       "      <th></th>\n",
       "      <th>coef</th>\n",
       "      <th>positive</th>\n",
       "    </tr>\n",
       "  </thead>\n",
       "  <tbody>\n",
       "    <tr>\n",
       "      <th>origin-1</th>\n",
       "      <td>-2.130505</td>\n",
       "      <td>False</td>\n",
       "    </tr>\n",
       "    <tr>\n",
       "      <th>cylinders</th>\n",
       "      <td>-0.524989</td>\n",
       "      <td>False</td>\n",
       "    </tr>\n",
       "    <tr>\n",
       "      <th>horsepower</th>\n",
       "      <td>-0.019231</td>\n",
       "      <td>False</td>\n",
       "    </tr>\n",
       "    <tr>\n",
       "      <th>weight</th>\n",
       "      <td>-0.007384</td>\n",
       "      <td>False</td>\n",
       "    </tr>\n",
       "    <tr>\n",
       "      <th>displacement</th>\n",
       "      <td>0.030083</td>\n",
       "      <td>True</td>\n",
       "    </tr>\n",
       "    <tr>\n",
       "      <th>acceleration</th>\n",
       "      <td>0.044142</td>\n",
       "      <td>True</td>\n",
       "    </tr>\n",
       "    <tr>\n",
       "      <th>year</th>\n",
       "      <td>0.784199</td>\n",
       "      <td>True</td>\n",
       "    </tr>\n",
       "    <tr>\n",
       "      <th>origin-2</th>\n",
       "      <td>1.035769</td>\n",
       "      <td>True</td>\n",
       "    </tr>\n",
       "    <tr>\n",
       "      <th>origin-3</th>\n",
       "      <td>1.095250</td>\n",
       "      <td>True</td>\n",
       "    </tr>\n",
       "  </tbody>\n",
       "</table>\n",
       "</div>"
      ],
      "text/plain": [
       "                  coef  positive\n",
       "origin-1     -2.130505     False\n",
       "cylinders    -0.524989     False\n",
       "horsepower   -0.019231     False\n",
       "weight       -0.007384     False\n",
       "displacement  0.030083      True\n",
       "acceleration  0.044142      True\n",
       "year          0.784199      True\n",
       "origin-2      1.035769      True\n",
       "origin-3      1.095250      True"
      ]
     },
     "metadata": {},
     "output_type": "display_data"
    },
    {
     "name": "stdout",
     "output_type": "stream",
     "text": [
      "Intercept : [-15.019022]\n"
     ]
    },
    {
     "data": {
      "image/png": "[encoded data removed]",
      "text/plain": [
       "<matplotlib.figure.Figure at 0x7f9223c4a748>"
      ]
     },
     "metadata": {},
     "output_type": "display_data"
    }
   ],
   "source": [
    "regressor_l2 = Ridge(alpha=1)\n",
    "\n",
    "regressor_l2.fit(x_train, y_train)\n",
    "pred = regressor_l2.predict(x_test)\n",
    "\n",
    "# measure the rmse error,\n",
    "score = np.sqrt(metrics.mean_squared_error(pred, y_test))\n",
    "print('score (RMSE) of Ridge: ', score)\n",
    "\n",
    "names = list(df_.columns.values)\n",
    "names.remove('mpg')\n",
    "\n",
    "report_coef(\n",
    "    names,\n",
    "    regressor_l2.coef_[0,:],\n",
    "    regressor_l2.intercept_\n",
    ")"
   ]
  },
  {
   "cell_type": "code",
   "execution_count": 15,
   "metadata": {},
   "outputs": [
    {
     "name": "stdout",
     "output_type": "stream",
     "text": [
      "the score (RMSE) of ElasticNet :  3.21719\n"
     ]
    }
   ],
   "source": [
    "import sklearn\n",
    "from sklearn.linear_model import ElasticNet\n",
    "from sklearn import metrics\n",
    "\n",
    "# Create the linear regression\n",
    "regressor_en = ElasticNet(alpha=0.1, l1_ratio=0.1)\n",
    "\n",
    "# fit and train\n",
    "regressor_en.fit(x_train, y_train)\n",
    "\n",
    "# Prediction\n",
    "pred = regressor_en.predict(x_test)\n",
    "\n",
    "# evaluation\n",
    "score = np.sqrt(metrics.mean_squared_error(pred, y_test))\n",
    "print(\"the score (RMSE) of ElasticNet : \", score)\n",
    "\n"
   ]
  },
  {
   "cell_type": "code",
   "execution_count": 1,
   "metadata": {
    "collapsed": true
   },
   "outputs": [],
   "source": [
    "# add l1/l2 regulazition on the deep learning frameworks\n",
    "\n",
    "import tensorflow as tf\n",
    "from keras.models import Sequential\n",
    "from keras.layers import Dense, Dropout\n",
    "from keras import regularizers\n",
    "from keras.callbacks import EarlyStopping\n"
   ]
  },
  {
   "cell_type": "code",
   "execution_count": 10,
   "metadata": {},
   "outputs": [
    {
     "name": "stdout",
     "output_type": "stream",
     "text": [
      "Epoch 00137: early stopping\n",
      "score rmse of deep :  4.23165\n"
     ]
    }
   ],
   "source": [
    "model = Sequential()\n",
    "model.add(Dense(50, input_dim=x.shape[1], activation='relu'))\n",
    "model.add(Dense(25, activation='relu'))\n",
    "model.add(Dense(10, kernel_regularizer=regularizers.l2(0.01), activity_regularizer=regularizers.l1(0.01), activation='relu'))\n",
    "model.add(Dense(1))\n",
    "\n",
    "model.compile(loss='mean_squared_error', optimizer='adam')\n",
    "monitor = EarlyStopping(monitor='val_loss', min_delta=1e-3, patience=5, verbose=1, mode='auto')\n",
    "model.fit(x_train, y_train, validation_data=(x_test, y_test), callbacks=[monitor], verbose=0, epochs=1000)\n",
    "\n",
    "pred = model.predict(x_test)\n",
    "\n",
    "score = np.sqrt(metrics.mean_squared_error(pred, y_test))\n",
    "print(\"score rmse of deep : \", score)"
   ]
  },
  {
   "cell_type": "code",
   "execution_count": null,
   "metadata": {
    "collapsed": true
   },
   "outputs": [],
   "source": []
  },
  {
   "cell_type": "markdown",
   "metadata": {
    "collapsed": true
   },
   "source": [
    "## Dropout Regularization\n",
    "\n",
    "The usual hyper_parameters for a dropout layer :\n",
    "* Neuron Count\n",
    "* Activation Function\n",
    "* Dropout Probability\n",
    "\n",
    "To make use of Dropout in keras, use the dropout layer and a specify a dropout probability, usually 0.1\n",
    "\n"
   ]
  },
  {
   "cell_type": "code",
   "execution_count": 11,
   "metadata": {},
   "outputs": [
    {
     "name": "stdout",
     "output_type": "stream",
     "text": [
      "Train on 298 samples, validate on 100 samples\n",
      "Epoch 1/1000\n",
      "0s - loss: 2683.3147 - val_loss: 1279.4306\n",
      "Epoch 2/1000\n",
      "0s - loss: 777.9419 - val_loss: 524.3554\n",
      "Epoch 3/1000\n",
      "0s - loss: 633.2416 - val_loss: 183.6516\n",
      "Epoch 4/1000\n",
      "0s - loss: 506.5946 - val_loss: 127.0829\n",
      "Epoch 5/1000\n",
      "0s - loss: 335.9870 - val_loss: 141.7946\n",
      "Epoch 6/1000\n",
      "0s - loss: 196.3164 - val_loss: 125.3130\n",
      "Epoch 7/1000\n",
      "0s - loss: 338.9602 - val_loss: 133.3084\n",
      "Epoch 8/1000\n",
      "0s - loss: 289.9371 - val_loss: 122.4099\n",
      "Epoch 9/1000\n",
      "0s - loss: 255.5219 - val_loss: 122.2564\n",
      "Epoch 10/1000\n",
      "0s - loss: 241.6159 - val_loss: 124.2774\n",
      "Epoch 11/1000\n",
      "0s - loss: 241.0200 - val_loss: 121.5120\n",
      "Epoch 12/1000\n",
      "0s - loss: 296.4752 - val_loss: 122.2951\n",
      "Epoch 13/1000\n",
      "0s - loss: 263.5660 - val_loss: 114.9086\n",
      "Epoch 14/1000\n",
      "0s - loss: 219.6706 - val_loss: 112.8674\n",
      "Epoch 15/1000\n",
      "0s - loss: 258.9238 - val_loss: 117.0905\n",
      "Epoch 16/1000\n",
      "0s - loss: 255.3397 - val_loss: 114.9751\n",
      "Epoch 17/1000\n",
      "0s - loss: 242.5361 - val_loss: 126.6134\n",
      "Epoch 18/1000\n",
      "0s - loss: 190.9743 - val_loss: 108.2542\n",
      "Epoch 19/1000\n",
      "0s - loss: 180.3608 - val_loss: 110.8886\n",
      "Epoch 20/1000\n",
      "0s - loss: 199.2645 - val_loss: 109.9636\n",
      "Epoch 21/1000\n",
      "0s - loss: 213.8620 - val_loss: 105.1064\n",
      "Epoch 22/1000\n",
      "0s - loss: 172.0052 - val_loss: 100.3627\n",
      "Epoch 23/1000\n",
      "0s - loss: 142.2977 - val_loss: 94.7336\n",
      "Epoch 24/1000\n",
      "0s - loss: 123.1637 - val_loss: 95.6128\n",
      "Epoch 25/1000\n",
      "0s - loss: 156.9353 - val_loss: 93.8466\n",
      "Epoch 26/1000\n",
      "0s - loss: 170.8959 - val_loss: 92.0734\n",
      "Epoch 27/1000\n",
      "0s - loss: 142.5349 - val_loss: 90.7822\n",
      "Epoch 28/1000\n",
      "0s - loss: 166.3370 - val_loss: 88.0893\n",
      "Epoch 29/1000\n",
      "0s - loss: 150.2627 - val_loss: 87.2013\n",
      "Epoch 30/1000\n",
      "0s - loss: 174.6794 - val_loss: 85.7089\n",
      "Epoch 31/1000\n",
      "0s - loss: 151.9069 - val_loss: 93.4741\n",
      "Epoch 32/1000\n",
      "0s - loss: 158.9149 - val_loss: 84.9933\n",
      "Epoch 33/1000\n",
      "0s - loss: 139.8377 - val_loss: 86.6261\n",
      "Epoch 34/1000\n",
      "0s - loss: 131.4393 - val_loss: 82.9089\n",
      "Epoch 35/1000\n",
      "0s - loss: 127.1996 - val_loss: 81.9125\n",
      "Epoch 36/1000\n",
      "0s - loss: 105.5981 - val_loss: 80.6287\n",
      "Epoch 37/1000\n",
      "0s - loss: 133.7759 - val_loss: 79.2916\n",
      "Epoch 38/1000\n",
      "0s - loss: 123.4643 - val_loss: 105.8402\n",
      "Epoch 39/1000\n",
      "0s - loss: 156.3101 - val_loss: 89.0975\n",
      "Epoch 40/1000\n",
      "0s - loss: 106.6688 - val_loss: 76.6053\n",
      "Epoch 41/1000\n",
      "0s - loss: 109.6052 - val_loss: 82.5786\n",
      "Epoch 42/1000\n",
      "0s - loss: 114.0163 - val_loss: 74.2660\n",
      "Epoch 43/1000\n",
      "0s - loss: 103.1208 - val_loss: 74.7064\n",
      "Epoch 44/1000\n",
      "0s - loss: 116.6071 - val_loss: 72.6825\n",
      "Epoch 45/1000\n",
      "0s - loss: 124.9976 - val_loss: 71.6048\n",
      "Epoch 46/1000\n",
      "0s - loss: 92.8058 - val_loss: 73.7397\n",
      "Epoch 47/1000\n",
      "0s - loss: 80.6875 - val_loss: 72.6183\n",
      "Epoch 48/1000\n",
      "0s - loss: 93.7702 - val_loss: 69.4720\n",
      "Epoch 49/1000\n",
      "0s - loss: 97.6288 - val_loss: 67.8959\n",
      "Epoch 50/1000\n",
      "0s - loss: 80.7786 - val_loss: 92.8329\n",
      "Epoch 51/1000\n",
      "0s - loss: 95.5665 - val_loss: 70.6042\n",
      "Epoch 52/1000\n",
      "0s - loss: 108.6349 - val_loss: 99.3541\n",
      "Epoch 53/1000\n",
      "0s - loss: 100.0082 - val_loss: 69.7753\n",
      "Epoch 54/1000\n",
      "0s - loss: 91.5813 - val_loss: 74.2964\n",
      "Epoch 55/1000\n",
      "0s - loss: 82.5374 - val_loss: 69.5825\n",
      "Epoch 00054: early stopping\n"
     ]
    },
    {
     "data": {
      "text/plain": [
       "<keras.callbacks.History at 0x7f5bba1dd2e8>"
      ]
     },
     "execution_count": 11,
     "metadata": {},
     "output_type": "execute_result"
    }
   ],
   "source": [
    "model = Sequential()\n",
    "model.add(Dense(50, input_dim=x.shape[1], activation='relu'))\n",
    "model.add(Dropout(0.01))\n",
    "model.add(Dense(25, activation='relu'))\n",
    "model.add(Dense(10, activation='relu'))\n",
    "model.add(Dense(1))\n",
    "\n",
    "model.compile(loss='mean_squared_error', optimizer='adam')\n",
    "monitor = EarlyStopping(monitor='val_loss', min_delta=1e-3, patience=5, verbose=1, mode='auto')\n",
    "model.fit(x_train, y_train, validation_data=(x_test, y_test), callbacks=[monitor], verbose=2, epochs=1000)"
   ]
  },
  {
   "cell_type": "code",
   "execution_count": 12,
   "metadata": {},
   "outputs": [
    {
     "data": {
      "text/plain": [
       "8.3416147"
      ]
     },
     "execution_count": 12,
     "metadata": {},
     "output_type": "execute_result"
    }
   ],
   "source": [
    "pred = model.predict(x_test)\n",
    "np.sqrt(metrics.mean_squared_error(pred, y_test))"
   ]
  },
  {
   "cell_type": "code",
   "execution_count": null,
   "metadata": {
    "collapsed": true
   },
   "outputs": [],
   "source": []
  }
 ],
 "metadata": {
  "kernelspec": {
   "display_name": "Python 3",
   "language": "python",
   "name": "python3"
  },
  "language_info": {
   "codemirror_mode": {
    "name": "ipython",
    "version": 3
   },
   "file_extension": ".py",
   "mimetype": "text/x-python",
   "name": "python",
   "nbconvert_exporter": "python",
   "pygments_lexer": "ipython3",
   "version": "3.6.4"
  }
 },
 "nbformat": 4,
 "nbformat_minor": 2
}
