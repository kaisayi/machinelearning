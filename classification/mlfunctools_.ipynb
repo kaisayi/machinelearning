{
 "cells": [
  {
   "cell_type": "markdown",
   "metadata": {},
   "source": [
    "## Functions used in Machine Learning"
   ]
  },
  {
   "cell_type": "code",
   "execution_count": 1,
   "metadata": {},
   "outputs": [],
   "source": [
    "from sklearn import preprocessing\n",
    "import pandas as pd\n",
    "import numpy as np\n",
    "import matplotlib.pyplot as plt\n",
    "import os"
   ]
  },
  {
   "cell_type": "code",
   "execution_count": 2,
   "metadata": {},
   "outputs": [],
   "source": [
    "iris_path = 'iris.data'\n",
    "df = pd.read_csv(iris_path, na_values=['NA', '?'], header=None)"
   ]
  },
  {
   "cell_type": "code",
   "execution_count": 3,
   "metadata": {},
   "outputs": [],
   "source": [
    "# encode the classes(setosa, versicolor, virginica) into [1,0,0], [0,1,0], [0,0,1]\n",
    "# and store the classes by n(donate the number of the classes) fields\n",
    "def encode_text_dummy(df, name):\n",
    "    dummies = pd.get_dummies(df[name])\n",
    "    \n",
    "    for x in dummies.columns:\n",
    "        dummy_name = '{}-{}'.format(str(name), str(x))\n",
    "        df[dummy_name] = dummies[x]\n",
    "    df.drop(name, axis=1, inplace=True)\n",
    "    \n",
    "# encode the classes  into the binary type, 1 if the class is target class, nor 0\n",
    "def encode_text_single_dummy(df, name, target_vals):\n",
    "    for val in target_vals:\n",
    "        is_value = lambda x: 1 if str(x) == str(val) else 0\n",
    "        val_name = 'dummy-%s'%val\n",
    "        df[dummy_name] = df[name].apply(is_value)\n",
    "    \n",
    "# encode the classes(setosa, versicolor, virginica) into 1, 2, 3\n",
    "def encode_text_index(df, name):\n",
    "    le = preprocessing.LabelEncoder()\n",
    "    encode_name = 'le-%s'%name\n",
    "    df[encode_name] = le.fit_transform(df[name])\n",
    "    return le.classes_\n",
    "\n",
    "# encode a numeric column as zscores\n",
    "de encode_numeric_zscore(df, name, mean=None, sd=None):\n",
    "    mean = mean or df[name].mean()\n",
    "    sd = sd or df[name].std()\n",
    "    \n",
    "    df[name] = (df[name] - mean)/sd\n",
    "\n",
    "# convert all missing value in specific column to the median\n",
    "def convert_median(df, name):\n",
    "    med = df[name].median()\n",
    "    df[name] = df[name].fillna(med)\n",
    "\n",
    "# convert all missing value in specific column to the default value\n",
    "def convert_default(df, name, default_value):\n",
    "    df[name] = df[name].fillna(default_value)\n",
    "    \n",
    "# convert pandas dataFrame to x, y inputs that tensorflow needs\n",
    "def to_xy(df, target):\n",
    "    results = []\n",
    "    for c in df.columns:\n",
    "        if c != target:\n",
    "            results.append(c)\n",
    "    \n",
    "    target_type = df[target].dtypes[0] if hasattr(df[target].dtypes, '__iter__') as df[target].dtypes\n",
    "    # encode to int for classification, otherwise float, TensorFlow prefer 32bits\n",
    "    if target_type in (np.int64, np.int32):\n",
    "        # classification\n",
    "        dummies = pd.get_dummies(df[target])\n",
    "        return df.as_matrix(results).astype(np.float32), dummies.as_matrix().astype(np.float32)\n",
    "    else:\n",
    "        # Regression\n",
    "        return df.as_matrix(results).astype(np.float32), df.as_matrix(target).astype(np.float32)\n",
    "\n",
    "# plot chart of Regression\n",
    "def chart_regression(pred, y, sort=True):\n",
    "    df = pd.DataFrame({'pred': pred, 'y': y.flatten()})\n",
    "    if sort:\n",
    "        df.sort_values(by=['y'], inpalce=True)\n",
    "    plt.plot(df['y'].tolist(), label='expected')\n",
    "    plt.plot(df['pred'].tolist(), label='predict')\n",
    "    plt.ylabel('output')\n",
    "    plt.legend()\n",
    "    plt.show()\n",
    "\n",
    "# remove all rows that deviate over the sd \n",
    "def remove_outliers(df, name, sd):\n",
    "    drop_rows = df.index[(np.abs(df[name] - df[name].mean()) >= (sd*df[name].std()))]\n",
    "    df.drop(drop_rows, axis=0, inplace=True)\n",
    "    return df\n",
    "\n",
    "# encode a column to a range between normalize_low and normalized_high\n",
    "def encode_numeric_range(df, name, normalized_low=-1, normalized_high=1,\n",
    "                         data_low=None, data_high=None):\n",
    "    if data_low is None:\n",
    "        data_low = df[name].min()\n",
    "        data_high = df[name].max()\n",
    "    \n",
    "    df[name] = (df[name]-data_low)*(normalized_high-normalized_low)/(data_high-data_low) + normalized_low\n",
    "\n",
    "    return df[name]\n",
    "\n",
    "\n",
    "        "
   ]
  },
  {
   "cell_type": "code",
   "execution_count": 14,
   "metadata": {},
   "outputs": [
    {
     "data": {
      "text/plain": [
       "array(['Iris-setosa', 'Iris-versicolor', 'Iris-virginica'], dtype=object)"
      ]
     },
     "execution_count": 14,
     "metadata": {},
     "output_type": "execute_result"
    }
   ],
   "source": [
    "encode_text_index(df, 4)"
   ]
  },
  {
   "cell_type": "code",
   "execution_count": 17,
   "metadata": {},
   "outputs": [],
   "source": [
    "df[5] = df.apply(lambda row: list([row[1], row[2]]), axis=1)"
   ]
  },
  {
   "cell_type": "code",
   "execution_count": 40,
   "metadata": {},
   "outputs": [
    {
     "data": {
      "text/html": [
       "<div>\n",
       "<style scoped>\n",
       "    .dataframe tbody tr th:only-of-type {\n",
       "        vertical-align: middle;\n",
       "    }\n",
       "\n",
       "    .dataframe tbody tr th {\n",
       "        vertical-align: top;\n",
       "    }\n",
       "\n",
       "    .dataframe thead th {\n",
       "        text-align: right;\n",
       "    }\n",
       "</style>\n",
       "<table border=\"1\" class=\"dataframe\">\n",
       "  <thead>\n",
       "    <tr style=\"text-align: right;\">\n",
       "      <th></th>\n",
       "      <th>int</th>\n",
       "      <th>float</th>\n",
       "    </tr>\n",
       "  </thead>\n",
       "  <tbody>\n",
       "    <tr>\n",
       "      <th>0</th>\n",
       "      <td>1</td>\n",
       "      <td>1.5</td>\n",
       "    </tr>\n",
       "    <tr>\n",
       "      <th>1</th>\n",
       "      <td>2</td>\n",
       "      <td>4.0</td>\n",
       "    </tr>\n",
       "    <tr>\n",
       "      <th>2</th>\n",
       "      <td>5</td>\n",
       "      <td>6.0</td>\n",
       "    </tr>\n",
       "  </tbody>\n",
       "</table>\n",
       "</div>"
      ],
      "text/plain": [
       "   int  float\n",
       "0    1    1.5\n",
       "1    2    4.0\n",
       "2    5    6.0"
      ]
     },
     "execution_count": 40,
     "metadata": {},
     "output_type": "execute_result"
    }
   ],
   "source": [
    "df = pd.DataFrame([[1, 1.5], [2, 4], [5, 6]], columns=['int', 'float'])\n",
    "df"
   ]
  },
  {
   "cell_type": "code",
   "execution_count": 41,
   "metadata": {},
   "outputs": [
    {
     "data": {
      "text/html": [
       "<div>\n",
       "<style scoped>\n",
       "    .dataframe tbody tr th:only-of-type {\n",
       "        vertical-align: middle;\n",
       "    }\n",
       "\n",
       "    .dataframe tbody tr th {\n",
       "        vertical-align: top;\n",
       "    }\n",
       "\n",
       "    .dataframe thead th {\n",
       "        text-align: right;\n",
       "    }\n",
       "</style>\n",
       "<table border=\"1\" class=\"dataframe\">\n",
       "  <thead>\n",
       "    <tr style=\"text-align: right;\">\n",
       "      <th></th>\n",
       "      <th>1</th>\n",
       "      <th>2</th>\n",
       "      <th>5</th>\n",
       "    </tr>\n",
       "  </thead>\n",
       "  <tbody>\n",
       "    <tr>\n",
       "      <th>0</th>\n",
       "      <td>1</td>\n",
       "      <td>0</td>\n",
       "      <td>0</td>\n",
       "    </tr>\n",
       "    <tr>\n",
       "      <th>1</th>\n",
       "      <td>0</td>\n",
       "      <td>1</td>\n",
       "      <td>0</td>\n",
       "    </tr>\n",
       "    <tr>\n",
       "      <th>2</th>\n",
       "      <td>0</td>\n",
       "      <td>0</td>\n",
       "      <td>1</td>\n",
       "    </tr>\n",
       "  </tbody>\n",
       "</table>\n",
       "</div>"
      ],
      "text/plain": [
       "   1  2  5\n",
       "0  1  0  0\n",
       "1  0  1  0\n",
       "2  0  0  1"
      ]
     },
     "execution_count": 41,
     "metadata": {},
     "output_type": "execute_result"
    }
   ],
   "source": [
    "pd.get_dummies(df['int'])\n"
   ]
  },
  {
   "cell_type": "code",
   "execution_count": null,
   "metadata": {},
   "outputs": [],
   "source": []
  }
 ],
 "metadata": {
  "kernelspec": {
   "display_name": "Python 3",
   "language": "python",
   "name": "python3"
  },
  "language_info": {
   "codemirror_mode": {
    "name": "ipython",
    "version": 3
   },
   "file_extension": ".py",
   "mimetype": "text/x-python",
   "name": "python",
   "nbconvert_exporter": "python",
   "pygments_lexer": "ipython3",
   "version": "3.6.4"
  }
 },
 "nbformat": 4,
 "nbformat_minor": 2
}
